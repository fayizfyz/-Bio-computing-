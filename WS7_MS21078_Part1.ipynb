{
  "nbformat": 4,
  "nbformat_minor": 0,
  "metadata": {
    "colab": {
      "provenance": []
    },
    "kernelspec": {
      "name": "python3",
      "display_name": "Python 3"
    },
    "language_info": {
      "name": "python"
    }
  },
  "cells": [
    {
      "cell_type": "markdown",
      "source": [
        "#Function to find summation of three number, using Lambda function"
      ],
      "metadata": {
        "id": "60fL6hiORAQx"
      }
    },
    {
      "cell_type": "code",
      "execution_count": null,
      "metadata": {
        "colab": {
          "base_uri": "https://localhost:8080/"
        },
        "id": "IhfcLUIxPHmR",
        "outputId": "1d2fc4ed-44e1-4c42-92f4-4ff619340572"
      },
      "outputs": [
        {
          "output_type": "execute_result",
          "data": {
            "text/plain": [
              "('Sum of these 3 numbers is', 60)"
            ]
          },
          "metadata": {},
          "execution_count": 9
        }
      ],
      "source": [
        "sum = lambda x,y,z:(\"Sum of these Three numbers is\",x+y+z)\n",
        "sum(10,20,30)\n"
      ]
    },
    {
      "cell_type": "markdown",
      "source": [
        "#Summation of any input number"
      ],
      "metadata": {
        "id": "4qp75Gg_RVSm"
      }
    },
    {
      "cell_type": "code",
      "source": [
        "sum(int(input(\"First number is: \")),int(input(\"Second number is: \")),int(input(\"Third number is: \")))"
      ],
      "metadata": {
        "colab": {
          "base_uri": "https://localhost:8080/"
        },
        "id": "nBbJ9kkeRUD6",
        "outputId": "6fc6d275-e791-4543-af88-3bcd432361be"
      },
      "execution_count": null,
      "outputs": [
        {
          "name": "stdout",
          "output_type": "stream",
          "text": [
            "First number is: 7\n",
            "Second number is: 8\n",
            "Third number is: 9\n"
          ]
        },
        {
          "output_type": "execute_result",
          "data": {
            "text/plain": [
              "('Sum of these 3 numbers is', 24)"
            ]
          },
          "metadata": {},
          "execution_count": 10
        }
      ]
    },
    {
      "cell_type": "markdown",
      "source": [
        "#Function to return a list of square of numbers"
      ],
      "metadata": {
        "id": "vGnHuI24SM5z"
      }
    },
    {
      "cell_type": "code",
      "source": [
        "A=[1,2,3,4,5,6,7,8,9,10]\n",
        "\n",
        "def square(A):\n",
        "  return (A**2)\n",
        "\n",
        "result=map(square,A)\n",
        "print(list(result))"
      ],
      "metadata": {
        "colab": {
          "base_uri": "https://localhost:8080/"
        },
        "id": "l4J-ySSDRk7M",
        "outputId": "20a8da9c-8643-46c4-e98a-188f529116df"
      },
      "execution_count": null,
      "outputs": [
        {
          "output_type": "stream",
          "name": "stdout",
          "text": [
            "[1, 4, 9, 16, 25, 36, 49, 64, 81, 100]\n"
          ]
        }
      ]
    },
    {
      "cell_type": "markdown",
      "source": [
        "#Prime number"
      ],
      "metadata": {
        "id": "MUz0hjSKTH7_"
      }
    },
    {
      "cell_type": "code",
      "source": [
        "num = list(range(1, 24))\n",
        "print(\"Numbers: \",num)\n",
        "\n",
        "def prime(num):\n",
        "    if num <= 1:\n",
        "        return False\n",
        "    elif num <= 3:\n",
        "        return True\n",
        "    elif num % 2 == 0 or num % 3 == 0:\n",
        "        return False\n",
        "    i = 5\n",
        "    while i * i <= num:\n",
        "        if num % i == 0 or num % (i + 2) == 0:\n",
        "            return False\n",
        "        i += 6\n",
        "    return True\n",
        "\n",
        "\n",
        "\n",
        "prime_num=map(prime,num)\n",
        "#print(list(prime_num))\n",
        "prime_list = [x for x in num if prime(x)]\n",
        "print(\"Prime numbers from the above given range of numbers: \",list(prime_list))"
      ],
      "metadata": {
        "colab": {
          "base_uri": "https://localhost:8080/"
        },
        "id": "3EBjRDhXSRM2",
        "outputId": "f1c66454-d1fa-4fa0-85db-534cdd533e9e"
      },
      "execution_count": 6,
      "outputs": [
        {
          "output_type": "stream",
          "name": "stdout",
          "text": [
            "Numbers;  [1, 2, 3, 4, 5, 6, 7, 8, 9, 10, 11, 12, 13, 14, 15, 16, 17, 18, 19, 20, 21, 22, 23]\n",
            "Prime numbers from the above given range of numbers;  [2, 3, 5, 7, 11, 13, 17, 19, 23]\n"
          ]
        }
      ]
    }
  ]
}