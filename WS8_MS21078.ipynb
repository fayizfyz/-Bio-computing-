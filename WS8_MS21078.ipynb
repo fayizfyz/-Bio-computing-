{
  "nbformat": 4,
  "nbformat_minor": 0,
  "metadata": {
    "colab": {
      "provenance": []
    },
    "kernelspec": {
      "name": "python3",
      "display_name": "Python 3"
    },
    "language_info": {
      "name": "python"
    }
  },
  "cells": [
    {
      "cell_type": "markdown",
      "source": [
        "1. Write regular expression to match:\n",
        "\n",
        "    a. date given as dd-mm-yyyy or dd/mm/yyyy format.\n",
        "    \n",
        "    b. email id (name@domain.rest) [ name can be alphanumeric, domain and rest are alphabets]\n",
        "   \n",
        "Extract this information from the text below:\n",
        "Mr. X birthday is on 02/10/1989 and email id test@gmail.com."
      ],
      "metadata": {
        "id": "QM2va_TjVe4L"
      }
    },
    {
      "cell_type": "code",
      "execution_count": 1,
      "metadata": {
        "colab": {
          "base_uri": "https://localhost:8080/"
        },
        "id": "Kuq_Mg2qUhQQ",
        "outputId": "f51b4581-a77f-4219-b9c0-c153caead1b4"
      },
      "outputs": [
        {
          "output_type": "stream",
          "name": "stdout",
          "text": [
            "<re.Match object; span=(21, 31), match='02/10/1989'>\n",
            "<re.Match object; span=(21, 31), match='02/10/1989'>\n"
          ]
        }
      ],
      "source": [
        "import re\n",
        "text=\"Mr. X birthday is on 02/10/1989 and email id test@gmail.com\"\n",
        "\n",
        "DOB= re.search(r'\\b(\\d{2})[/](\\d{2})[/](\\d{4})\\b', text)\n",
        "DOB_other_way= re.search(r'\\b[0-9]{2}/[0-9]{2}/[0-9]{4}',text)\n",
        "print(DOB)\n",
        "print(DOB_other_way)\n"
      ]
    },
    {
      "cell_type": "code",
      "source": [
        "mails=re.search(r'\\b\\w+@\\w+\\.\\w+\\b', text)\n",
        "print(mails)"
      ],
      "metadata": {
        "colab": {
          "base_uri": "https://localhost:8080/"
        },
        "id": "spq6vXw4ZUcU",
        "outputId": "0ece2d65-2a45-49f8-b5ee-bbfca4c3f657"
      },
      "execution_count": 5,
      "outputs": [
        {
          "output_type": "stream",
          "name": "stdout",
          "text": [
            "<re.Match object; span=(45, 59), match='test@gmail.com'>\n"
          ]
        }
      ]
    }
  ]
}