{
  "nbformat": 4,
  "nbformat_minor": 0,
  "metadata": {
    "colab": {
      "provenance": []
    },
    "kernelspec": {
      "name": "python3",
      "display_name": "Python 3"
    },
    "language_info": {
      "name": "python"
    }
  },
  "cells": [
    {
      "cell_type": "markdown",
      "source": [
        "1. Write a function to calculate angle between three atoms.\n",
        "Use: angle=invcos(a.b/|a||b|) # Python function is math.acos() for inverse of cos, remember to convert"
      ],
      "metadata": {
        "id": "KNnO-_ixHlHW"
      }
    },
    {
      "cell_type": "code",
      "source": [
        "import math\n",
        "\n",
        "def angle_3_atoms(atom1, atom2, atom3):\n",
        "    # Two vectors: A and B\n",
        "    A = [atom1[0] - atom2[0], atom1[1] - atom2[1], atom1[2] - atom2[2]]\n",
        "    B = [atom3[0] - atom2[0], atom3[1] - atom2[1], atom3[2] - atom2[2]]\n",
        "\n",
        "    dot_prod = sum(A[i] * B[i] for i in range(3))\n",
        "\n",
        "    # magnitudes of the vectors\n",
        "    mag_A = math.sqrt(sum(A[i] ** 2 for i in range(3)))\n",
        "    mag_B = math.sqrt(sum(B[i] ** 2 for i in range(3)))\n",
        "    angle = math.acos(dot_prod / (mag_A * mag_B))\n",
        "\n",
        "    return angle\n",
        "\n",
        "\n",
        "\n"
      ],
      "metadata": {
        "id": "JvNQBkSjExVa"
      },
      "execution_count": 9,
      "outputs": []
    },
    {
      "cell_type": "markdown",
      "source": [
        "2. Use the function to calculate the angle (in degrees) between N-CA-C (atom names) of a residue and report average angle for all residues in the PDB file."
      ],
      "metadata": {
        "id": "YH68LI6cJuqM"
      }
    },
    {
      "cell_type": "code",
      "source": [
        "atom_data = {}\n",
        "with open(\"/content/atom_cord.txt\", 'r') as pdb_file:\n",
        "        for line in pdb_file:\n",
        "            if line.startswith('ATOM'):\n",
        "                atom_name = line[12:16].strip()\n",
        "                if atom_name in ['N', 'CA', 'C']:\n",
        "                    resid = int(line[22:26])\n",
        "                    x = float(line[31:38])\n",
        "                    y = float(line[39:46])\n",
        "                    z = float(line[47:54])\n",
        "                    if resid not in atom_data:\n",
        "                        atom_data[resid] = {}\n",
        "                    atom_data[resid][atom_name] = (x, y, z)\n",
        "\n",
        "\n",
        "\n",
        "def cal_average_angle(atom_data):\n",
        "  total_angle = 0\n",
        "  residue_count = 0\n",
        "  for residue_number, atoms in atom_data.items():\n",
        "      if 'N' in atoms and 'CA' in atoms and 'C' in atoms:\n",
        "          #use our previous function to find angle between 3 atoms\n",
        "          total_angle += angle_3_atoms(atoms['N'], atoms['CA'], atoms['C'])\n",
        "          residue_count += 1\n",
        "  average_angle = math.degrees(total_angle / residue_count)\n",
        "  return average_angle\n",
        "average_angle = cal_average_angle(atom_data)\n",
        "print(\"Average angle between N-CA-C atoms:\", average_angle, \"degrees\")"
      ],
      "metadata": {
        "colab": {
          "base_uri": "https://localhost:8080/"
        },
        "id": "SoV89duRLri7",
        "outputId": "6abaf331-4076-43d0-a1a4-6e19a4103193"
      },
      "execution_count": 10,
      "outputs": [
        {
          "output_type": "stream",
          "name": "stdout",
          "text": [
            "Average angle between N-CA-C atoms: 111.0478841756931 degrees\n"
          ]
        }
      ]
    }
  ]
}