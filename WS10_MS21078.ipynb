{
  "nbformat": 4,
  "nbformat_minor": 0,
  "metadata": {
    "colab": {
      "provenance": []
    },
    "kernelspec": {
      "name": "python3",
      "display_name": "Python 3"
    },
    "language_info": {
      "name": "python"
    }
  },
  "cells": [
    {
      "cell_type": "markdown",
      "source": [
        "#Algorithm\n",
        "1) Take a sequence of aminoacids\n",
        "\n",
        "**Phi angle: C(i-1)-N(i)-CA(i)-C(i)**\n",
        "\n",
        "**Psi angle: N(i)-CA(i)-C(i)-N(i+1)**\n",
        "\n",
        "2) v1 is vector (AB)\n",
        "\n",
        "v2 is vector (BC)\n",
        "\n",
        "v3 is vector (CD)\n",
        "\n",
        "n1 = v1 X v2 (Cross Product)\n",
        "\n",
        "n2 = v2 X v3 (Cross Product)\n",
        "\n",
        "The angle between n1 and n2 is obtained by:\n",
        "$\\cos^{-1}\\left(\\frac{{\\mathbf{n}_1 \\cdot \\mathbf{n}_2}}{{\\lVert \\mathbf{n}_1 \\rVert \\lVert \\mathbf{n}_2 \\rVert}}\\right)$\n",
        "Sign of angle is given by:\n",
        "\n",
        "Sign=+1\n",
        "\n",
        "n12 = n1 X n2 (Cross Product)\n",
        "\n",
        "value = n12.v2 (dot product)\n",
        "\n",
        "If the value < 0:\n",
        "\n",
        "Sign=Sign*-1\n",
        "\n",
        "Cross product is defined as below:\n",
        "\n",
        "𝑌 = 𝑥𝑖 + 𝑦𝑗 + 𝑧𝑘\n",
        "\n",
        "𝑌 = 𝑎𝑖 + 𝑏𝑗 + 𝑐𝑘\n",
        "\n",
        "𝑋×𝑌 = 𝑦𝑐 − 𝑧𝑏 𝑖 + 𝑧𝑎 − 𝑥𝑐 𝑗 + (𝑥𝑏 − 𝑦𝑎)𝑘\n",
        "\n"
      ],
      "metadata": {
        "id": "hVJ2iQbUbaUQ"
      }
    },
    {
      "cell_type": "code",
      "source": [
        "import math\n",
        "\n",
        "# cross product\n",
        "def cross_product(v1, v2):\n",
        "    cross_x = v1[1] * v2[2] - v1[2] * v2[1]\n",
        "    cross_y = v1[2] * v2[0] - v1[0] * v2[2]\n",
        "    cross_z = v1[0] * v2[1] - v1[1] * v2[0]\n",
        "    return [cross_x, cross_y, cross_z]\n",
        "\n",
        "# dot product\n",
        "def dot_product(v1, v2):\n",
        "    return sum(v1[i] * v2[i] for i in range(3))\n",
        "\n",
        "# Magnitude\n",
        "def magnitude(v):\n",
        "    return math.sqrt(sum(x**2 for x in v))\n",
        "\n"
      ],
      "metadata": {
        "id": "a85gTUKNslxp"
      },
      "execution_count": 1,
      "outputs": []
    },
    {
      "cell_type": "code",
      "source": [
        "def angle_between(v1, v2):\n",
        "    dot_prod = dot_product(v1, v2)\n",
        "    mag_v1 = magnitude(v1)\n",
        "    mag_v2 = magnitude(v2)\n",
        "    return math.acos(dot_prod / (mag_v1 * mag_v2))\n",
        "\n",
        "# Torsion angles\n",
        "def torsion_angle(atom1, atom2, atom3, atom4):\n",
        "    v1 = [atom1[i] - atom2[i] for i in range(3)]\n",
        "    v2 = [atom2[i] - atom3[i] for i in range(3)]\n",
        "    v3 = [atom3[i] - atom4[i] for i in range(3)]\n",
        "\n",
        "    n1 = cross_product(v1, v2)\n",
        "    n2 = cross_product(v2, v3)\n",
        "\n",
        "    angle = angle_between(n1, n2)\n",
        "\n",
        "    # sign\n",
        "    n12 = cross_product(n1, n2)\n",
        "    value = dot_product(n12, v2)\n",
        "    sign = 1 if value >= 0 else -1\n",
        "\n",
        "    return sign * math.degrees(angle)\n",
        "\n",
        "# LEU-SER-ALA\n",
        "C_prev = [51.757, -24.145,  92.178]\n",
        "N_i = [50.975, -25.219,  92.233]\n",
        "CA_i = [ 50.019, -25.489,  91.174]\n",
        "C_i = [ 49.116, -24.273,  91.082 ]\n",
        "N_next = [ 48.953, -23.576,  92.207]\n",
        "\n",
        "# Phi angle\n",
        "phi = torsion_angle(C_prev, N_i, CA_i, C_i)\n",
        "print(\"Phi angle:\", phi)\n",
        "\n",
        "# Psi angle\n",
        "psi = torsion_angle(N_i, CA_i, C_i, N_next)\n",
        "print(\"Psi angle:\", psi)\n"
      ],
      "metadata": {
        "colab": {
          "base_uri": "https://localhost:8080/"
        },
        "id": "SWcOEfYjs1yf",
        "outputId": "d927106e-4496-468b-f4f9-ac39f3f1be16"
      },
      "execution_count": 2,
      "outputs": [
        {
          "output_type": "stream",
          "name": "stdout",
          "text": [
            "Phi angle: 57.34973820504843\n",
            "Psi angle: 28.120099354508692\n"
          ]
        }
      ]
    }
  ]
}