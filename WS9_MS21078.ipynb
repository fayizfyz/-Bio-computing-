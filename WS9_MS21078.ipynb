{
  "nbformat": 4,
  "nbformat_minor": 0,
  "metadata": {
    "colab": {
      "provenance": []
    },
    "kernelspec": {
      "name": "python3",
      "display_name": "Python 3"
    },
    "language_info": {
      "name": "python"
    }
  },
  "cells": [
    {
      "cell_type": "markdown",
      "source": [
        "1. Rewrite to Homo Sapiens to H. sapiens or any similar names of organisms (general regex)\n",
        "\n"
      ],
      "metadata": {
        "id": "7hIJ0Z3FxVgw"
      }
    },
    {
      "cell_type": "code",
      "execution_count": null,
      "metadata": {
        "colab": {
          "base_uri": "https://localhost:8080/"
        },
        "id": "QN7YyPB3xSMM",
        "outputId": "6d884429-022d-476a-dbee-c8eab7483c22"
      },
      "outputs": [
        {
          "output_type": "stream",
          "name": "stdout",
          "text": [
            "First name:  H\n",
            "Last name:  Sapiens\n",
            "H . Sapiens\n"
          ]
        }
      ],
      "source": [
        "import re\n",
        "name= \"Homo Sapiens\"#input(\"Name of Organism:\" )\n",
        "a=re.search('([A-Za-z]).+\\s+(\\w+)',name)\n",
        "if a:\n",
        "  print(\"First name: \", a.group(1))\n",
        "  print(\"Last name: \", a.group(2))\n",
        "\n",
        "x= a.group(1)\n",
        "y=a.group(2)\n",
        "print(x,\".\",y)"
      ]
    },
    {
      "cell_type": "markdown",
      "source": [
        "2. Rewrite '>CAA57801.1= GFP [Mus Musculus]' to '>CAA57801_M.Musculus'. Note: there could be any number of characters/space between >ID. and '[' symbol"
      ],
      "metadata": {
        "id": "yQFbmblJvD67"
      }
    },
    {
      "cell_type": "code",
      "source": [
        "string=\">CAA57801.1=GFP[Mus Musculus]\"  #Rewrite '>CAA57801.1= GFP [Mus Musculus]' to '>CAA57801_M.Musculus'\n",
        "m= re.search(r\"(>CAA\\d+).+\\[([A-Za-z]).+\\s+(\\w+)]\", string)  #dot process until\n",
        "print(m.groups())\n",
        "x=m.group(1)\n",
        "y=m.group(2)\n",
        "z=m.group(3)\n",
        "print(x,\"_\",y,\".\",z)"
      ],
      "metadata": {
        "colab": {
          "base_uri": "https://localhost:8080/"
        },
        "id": "Mde4K-kb1gjK",
        "outputId": "94dcb509-64dc-4f56-f528-1c8c1143fc5b"
      },
      "execution_count": null,
      "outputs": [
        {
          "output_type": "stream",
          "name": "stdout",
          "text": [
            "('>CAA57801', 'M', 'Musculus')\n",
            ">CAA57801 _ M . Musculus\n"
          ]
        }
      ]
    },
    {
      "cell_type": "markdown",
      "source": [
        "3. Rewrite \">NM_001300425.1 Drosophila melanogaster Akt kinase (Akt), transcript variant E, mRNA\" as \">NM_001300425_D.melanogaster_Akt_mRNA\". Note: the >NM is fixed for any mRNA, the transcript variant may or may not be present i.e. the character after a variant is optional.\n",
        "\n",
        "The general format is '>NM_DIGITS.ONE-TWO_DIGITS TAXON SPECIES LONG-NAME (SHORT_NAME), transcript variant OPTIONAL_TYPE, mRNA\n",
        "\n",
        "LONG-NAME-multiple words, SHORT_NAME-one word OPTIONAL_TYPE-one single word"
      ],
      "metadata": {
        "id": "Rt9jqbibvKCh"
      }
    },
    {
      "cell_type": "code",
      "source": [
        "string = \">NM_001300425.1 Drosophila melanogaster Akt kinase (Akt), transcript variant E, mRNA\"\n",
        "\n",
        "# Search and extract groups\n",
        "m = re.search(r'>(NM_\\d+)\\.\\d+\\s+([A-Z][a-z]+) ([a-z]+) ([A-Z][a-z\\s]+) \\((\\w+)\\),? transcript variant (\\w+)?, mRNA', string)\n",
        "print(m.groups())\n",
        "\n",
        "if m:\n",
        "    nm = m.group(1)\n",
        "    genus = m.group(2)\n",
        "    species = m.group(3)\n",
        "    long_name = m.group(4)\n",
        "    short_name = m.group(5)\n",
        "    #rewritte_string= nm+\"_\"+genus[0]+\"_\"+species+\"_\"+shortname+\"_\"+\"mrna\"\n",
        "    rewritten_string = f\"{nm}_{genus[0]}.{species}_{short_name}_mRNA\"\n",
        "\n",
        "    print(\"Rewritten string:\", rewritten_string)\n",
        "\n",
        "else:\n",
        "  print(\"No match\")\n"
      ],
      "metadata": {
        "colab": {
          "base_uri": "https://localhost:8080/"
        },
        "id": "3woKNKR16CKR",
        "outputId": "bc7c24e2-f490-4787-dce5-d88f2062f865"
      },
      "execution_count": null,
      "outputs": [
        {
          "output_type": "stream",
          "name": "stdout",
          "text": [
            "('NM_001300425', 'Drosophila', 'melanogaster', 'Akt kinase', 'Akt', 'E')\n",
            "Rewritten string: NM_001300425_D.melanogaster_Akt_mRNA\n"
          ]
        }
      ]
    },
    {
      "cell_type": "markdown",
      "source": [
        "\n",
        "\n",
        "\n",
        "\n",
        "4. Find the coding region using regex (start codon: ATG/GTG; stop codon: TAA, TAG, TGA). Use any sequence from fasta_file.txt\n",
        "\n",
        "\n",
        "\n"
      ],
      "metadata": {
        "id": "eiUGcG5NvBVC"
      }
    },
    {
      "cell_type": "code",
      "source": [
        "import re\n",
        "\n",
        "dna_seq = \"ATGAGTAGTAAACGTAGGGTGACTAA\"\n",
        "coding = re.search(r\"(ATG|GTG)((?!TAA|TAG|TGA).)*?(TAA|TAG|TGA)\", dna_seq)\n",
        "\n",
        "if coding:\n",
        "    print(\"Coding region found:\", coding.group(0))\n",
        "else:\n",
        "    print(\"No coding region found.\")\n"
      ],
      "metadata": {
        "colab": {
          "base_uri": "https://localhost:8080/"
        },
        "id": "4ul-j-7ULFJ5",
        "outputId": "d80c1d45-a5b1-435c-eda9-4d74ee54a26f"
      },
      "execution_count": null,
      "outputs": [
        {
          "output_type": "stream",
          "name": "stdout",
          "text": [
            "Coding region found: ATGAGTAG\n"
          ]
        }
      ]
    },
    {
      "cell_type": "markdown",
      "source": [
        "5. Parse the below text and extract content within each HTML tag\n",
        "\n",
        "   <html>\n",
        "\n",
        "     <body>\n",
        "\n",
        "        <p>This is example text. </p>\n",
        "\n",
        "     </body>\n",
        "\n",
        "   </html>\n",
        "\n",
        "  Challenge: Write a parser, if you have more than one entity <x>TEXT</x> within one block.\n"
      ],
      "metadata": {
        "id": "b2FTAf4CvPHb"
      }
    },
    {
      "cell_type": "code",
      "source": [
        "html_text = \"\"\"\n",
        "<html>\n",
        "    <body>\n",
        "        <p>This is example text. </p>\n",
        "    </body>\n",
        "</html>\n",
        "\"\"\"\n",
        "text=re.search(r\"<(?P<TagN>[a-zA-Z][a-zA-Z]*[^>]*)>(.*?)</(?P=TagN)>\",html_text)\n",
        "print(text.groups())"
      ],
      "metadata": {
        "colab": {
          "base_uri": "https://localhost:8080/"
        },
        "id": "sVh46Rs-MHn_",
        "outputId": "a3da83af-3326-4e02-eb6b-a64b2edb959f"
      },
      "execution_count": null,
      "outputs": [
        {
          "output_type": "stream",
          "name": "stdout",
          "text": [
            "('p', 'This is example text. ')\n"
          ]
        }
      ]
    },
    {
      "cell_type": "code",
      "source": [],
      "metadata": {
        "id": "x_YrKtmXLZGB"
      },
      "execution_count": null,
      "outputs": []
    },
    {
      "cell_type": "markdown",
      "source": [
        "6. Parse email.txt given below to extract the email id of the sender (From), receiver (To), subject (line), content (lines) and store it dict() object.\n",
        "\n",
        "RFC822 Message body\n",
        "\n",
        "Received: from webmail.iisermohali.ac.in ([unix socket])\n",
        "\n",
        "Received: from webmail.iisermohali.ac.in (localhost [127.0.0.1])\n",
        "\n",
        "From: \"GA\" <ga@iisermohali.ac.in>\n",
        "\n",
        "Date: Sun, 1 Mar 2020 19:16:32 +0530\n",
        "\n",
        "To: \"USer\" <user@iisermohali.ac.in>\n",
        "\n",
        "Subject: \"Header\"\n",
        "\n",
        "Dear Sir,\n",
        "\n",
        "    Accumsan felis leo suspendisse vehicula orci purus vestibulum neque praesent imperdiet fusce sem a parturient penatibus dictum at suspendisse varius libero iaculis ligula. Adipiscing platea est bibendum vivamus nascetur torquent mus augue auctor vestibulum eleifend eu risus et eros ac vehicula nunc posuere. Nostra gravida at natoque diam euismod auctor parturient hac per in suspendisse suspendisse orci a gravida vestibulum a facilisis natoque hac ac scelerisque a cursus fames id himenaeos. Suspendisse mus parturient consectetur adipiscing convallis mauris et posuere arcu adipiscing magnis nisl natoque mollis dis bibendum vulputate nisi bibendum parturient gravida. Parturient mauris in felis dignissim id auctor mi in malesuada a torquent dui pulvinar sociosqu nam nisl curabitur elementum. Eu nam dictumst at in euismod praesent arcu penatibus ligula viverra cras a parturient scelerisque sagittis a egestas pharetra adipiscing suspendisse. Magna condimentum duis a vestibulum placerat a ac metus condimentum a mi felis ultrices dolor sem adipiscing turpis.\n",
        "\n",
        "Thanking you,\n",
        "\n",
        "Sincerely,\n",
        "\n",
        "phone no: 999999\n",
        "\n",
        "Indian Institute of Science Education and Research (IISER), Mohali."
      ],
      "metadata": {
        "id": "dh4Ag6B9vSlB"
      }
    },
    {
      "cell_type": "code",
      "source": [
        "import re\n",
        "email=\"\"\"\n",
        "RFC822 Message body\n",
        "Received: from webmail.iisermohali.ac.in ([unix socket])\n",
        "Received: from webmail.iisermohali.ac.in (localhost [127.0.0.1])\n",
        "From: \"GA\" <ga@iisermohali.ac.in>\n",
        "Date: Sun, 1 Mar 2020 19:16:32 +0530\n",
        "To: \"USer\" <user@iisermohali.ac.in>\n",
        "Subject: \"Header\"\n",
        "Dear Sir,\n",
        "    Accumsan felis leo suspendisse vehicula orci purus vestibulum neque praesent imperdiet fusce sem a parturient penatibus dictum at suspendisse varius libero iaculis ligula. Adipiscing platea est bibendum vivamus nascetur torquent mus augue auctor vestibulum eleifend eu risus et eros ac vehicula nunc posuere. Nostra gravida at natoque diam euismod auctor parturient hac per in suspendisse suspendisse orci a gravida vestibulum a facilisis natoque hac ac scelerisque a cursus fames id himenaeos. Suspendisse mus parturient consectetur adipiscing convallis mauris et posuere arcu adipiscing magnis nisl natoque mollis dis bibendum vulputate nisi bibendum parturient gravida. Parturient mauris in felis dignissim id auctor mi in malesuada a torquent dui pulvinar sociosqu nam nisl curabitur elementum. Eu nam dictumst at in euismod praesent arcu penatibus ligula viverra cras a parturient scelerisque sagittis a egestas pharetra adipiscing suspendisse. Magna condimentum duis a vestibulum placerat a ac metus condimentum a mi felis ultrices dolor sem adipiscing turpis.\n",
        "Thanking you,\n",
        "Sincerely,\n",
        "phone no: 999999\n",
        "Indian Institute of Science Education and Research (IISER), Mohali.\n",
        "\"\"\"\n",
        "#sender's email\n",
        "ext_send_mail=re.search(r'From: \"(.*?)\" <(.*?)>',email)\n",
        "if ext_send_mail:\n",
        "    print(ext_send_mail.groups())\n",
        "else:\n",
        "    print(\"Sender email not found.\")\n",
        "\n",
        "#Receiver's email\n",
        "ext_rec_mail=re.search(r'To: \"(.*?)\" <(.*?)>',email)\n",
        "if ext_rec_mail:\n",
        "    print(ext_rec_mail.groups())\n",
        "else:\n",
        "    print(\"Receiver email not found.\")\n",
        "\n",
        "# To extract subject\n",
        "sub=re.search(r'Subject: \"(.*?)\"',email)\n",
        "if sub:\n",
        "  print(sub.groups())\n",
        "else:\n",
        "  print(\"No subject found\")\n",
        "\n",
        "#To extract content\n",
        "cont = re.search(r'Dear Sir,([\\s\\S]*?)Thanking you,', email)\n",
        "if cont:\n",
        "  print(cont.groups())\n",
        "\n",
        "# Store the informations and making dictionary\n",
        "email_info={}\n",
        "\n",
        "email_info[\"Sender's Details\"] = {\n",
        "        'name': ext_send_mail.group(1),\n",
        "        'email': ext_send_mail.group(2)\n",
        "}\n",
        "email_info[\"Receiver's Details\"] = {\n",
        "        'name': ext_rec_mail.group(1),\n",
        "        'email': ext_rec_mail.group(2)\n",
        "}\n",
        "email_info[\"Subject\"] = {\n",
        "        'Subject': sub.group(1)\n",
        "}\n",
        "email_info[\"Content\"] = {\n",
        "        'content': cont.group(1)\n",
        "}\n",
        "print(email_info)"
      ],
      "metadata": {
        "id": "rGvzS-1o3KsK",
        "colab": {
          "base_uri": "https://localhost:8080/"
        },
        "outputId": "aae25703-dedd-4774-a56e-039d943899be"
      },
      "execution_count": 2,
      "outputs": [
        {
          "output_type": "stream",
          "name": "stdout",
          "text": [
            "('GA', 'ga@iisermohali.ac.in')\n",
            "('USer', 'user@iisermohali.ac.in')\n",
            "('Header',)\n",
            "('\\n    Accumsan felis leo suspendisse vehicula orci purus vestibulum neque praesent imperdiet fusce sem a parturient penatibus dictum at suspendisse varius libero iaculis ligula. Adipiscing platea est bibendum vivamus nascetur torquent mus augue auctor vestibulum eleifend eu risus et eros ac vehicula nunc posuere. Nostra gravida at natoque diam euismod auctor parturient hac per in suspendisse suspendisse orci a gravida vestibulum a facilisis natoque hac ac scelerisque a cursus fames id himenaeos. Suspendisse mus parturient consectetur adipiscing convallis mauris et posuere arcu adipiscing magnis nisl natoque mollis dis bibendum vulputate nisi bibendum parturient gravida. Parturient mauris in felis dignissim id auctor mi in malesuada a torquent dui pulvinar sociosqu nam nisl curabitur elementum. Eu nam dictumst at in euismod praesent arcu penatibus ligula viverra cras a parturient scelerisque sagittis a egestas pharetra adipiscing suspendisse. Magna condimentum duis a vestibulum placerat a ac metus condimentum a mi felis ultrices dolor sem adipiscing turpis.\\n',)\n",
            "{\"Sender's Details\": {'name': 'GA', 'email': 'ga@iisermohali.ac.in'}, \"Receiver's Details\": {'name': 'USer', 'email': 'user@iisermohali.ac.in'}, 'Subject': {'Subject': 'Header'}, 'Content': {'content': '\\n    Accumsan felis leo suspendisse vehicula orci purus vestibulum neque praesent imperdiet fusce sem a parturient penatibus dictum at suspendisse varius libero iaculis ligula. Adipiscing platea est bibendum vivamus nascetur torquent mus augue auctor vestibulum eleifend eu risus et eros ac vehicula nunc posuere. Nostra gravida at natoque diam euismod auctor parturient hac per in suspendisse suspendisse orci a gravida vestibulum a facilisis natoque hac ac scelerisque a cursus fames id himenaeos. Suspendisse mus parturient consectetur adipiscing convallis mauris et posuere arcu adipiscing magnis nisl natoque mollis dis bibendum vulputate nisi bibendum parturient gravida. Parturient mauris in felis dignissim id auctor mi in malesuada a torquent dui pulvinar sociosqu nam nisl curabitur elementum. Eu nam dictumst at in euismod praesent arcu penatibus ligula viverra cras a parturient scelerisque sagittis a egestas pharetra adipiscing suspendisse. Magna condimentum duis a vestibulum placerat a ac metus condimentum a mi felis ultrices dolor sem adipiscing turpis.\\n'}}\n"
          ]
        }
      ]
    },
    {
      "cell_type": "code",
      "source": [],
      "metadata": {
        "id": "YrUroL3tN4dT"
      },
      "execution_count": null,
      "outputs": []
    }
  ]
}