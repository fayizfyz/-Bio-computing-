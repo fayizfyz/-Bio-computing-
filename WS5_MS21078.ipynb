{
  "nbformat": 4,
  "nbformat_minor": 0,
  "metadata": {
    "colab": {
      "provenance": []
    },
    "kernelspec": {
      "name": "python3",
      "display_name": "Python 3"
    },
    "language_info": {
      "name": "python"
    }
  },
  "cells": [
    {
      "cell_type": "markdown",
      "source": [
        "Q1. Write a program to read the content of the PDB file into the dict data type in the following form:\n",
        "\n",
        "x[RESID][ATOMNAME]=[Xcord,Ycord,Zcord]\n",
        "\n",
        "x[RESID]['resname']=RESNAME\n",
        "\n",
        "\n",
        "\n",
        "for instance, using x[5]['resname'] should return residue name and x[5][CA] should return\n",
        "\n",
        "list with coordinates."
      ],
      "metadata": {
        "id": "EpR8gRonqz_D"
      }
    },
    {
      "cell_type": "code",
      "source": [
        "# Opening the PDB file and reading\n",
        "with open(\"/content/atom_cord.txt\", \"r\") as pdb_file:\n",
        "    lines = pdb_file.readlines()\n",
        "\n",
        "\n",
        "pdb_data = {}\n",
        "\n",
        "#Using strip\n",
        "for line in lines:\n",
        "  if line.startswith('ATOM'):\n",
        "    resid = int(line[22:26])\n",
        "    resname = line[17:20].strip()\n",
        "    atomname = line[12:16].strip()\n",
        "    x = float(line[31:38])\n",
        "    y = float(line[39:46])\n",
        "    z = float(line[47:54])\n",
        "    #print(x)\n",
        "\n",
        "    #adding the data\n",
        "    if resid not in pdb_data:\n",
        "        pdb_data[resid] = {'resname': resname}\n",
        "\n",
        "\n",
        "    pdb_data[resid][atomname] = [x, y, z]\n",
        "\n",
        "#printing the whole data\n",
        "for resid, data in pdb_data.items():\n",
        "    print(f\"RESID: {resid}\")\n",
        "    print(f\"RESNAME: {data['resname']}\")\n",
        "    for atomname, coordinates in data.items():\n",
        "        if atomname != 'resname':\n",
        "            print(f\"{atomname}: {coordinates}\")\n",
        "    print(\"************************************\")\n"
      ],
      "metadata": {
        "id": "-6XE1p0qmSNm"
      },
      "execution_count": null,
      "outputs": []
    },
    {
      "cell_type": "markdown",
      "source": [
        " a. Find the composition of the residues. (occurrence of amino acids in the PDB file)."
      ],
      "metadata": {
        "id": "SI_7ZioqrD-T"
      }
    },
    {
      "cell_type": "code",
      "source": [
        "composition = {}\n",
        "\n",
        "# Iterate\n",
        "for resid, data in pdb_data.items():\n",
        "    resname = data['resname']\n",
        "\n",
        "    # Increment\n",
        "    composition[resname] = composition.get(resname, 0) + 1\n",
        "\n",
        "# Print the composition of residues\n",
        "print(\"Composition of residues:\")\n",
        "for resname, count in composition.items():\n",
        "    print(f\"{resname}: {count}\")\n"
      ],
      "metadata": {
        "colab": {
          "base_uri": "https://localhost:8080/"
        },
        "id": "fGnpUa4BoDR8",
        "outputId": "8c01322f-138b-4856-f944-91e9d8db442f"
      },
      "execution_count": null,
      "outputs": [
        {
          "output_type": "stream",
          "name": "stdout",
          "text": [
            "Composition of residues:\n",
            "LEU: 27\n",
            "SER: 17\n",
            "ALA: 32\n",
            "GLU: 28\n",
            "ASP: 26\n",
            "LYS: 30\n",
            "VAL: 19\n",
            "ARG: 18\n",
            "MET: 8\n",
            "ILE: 26\n",
            "ASN: 15\n",
            "GLY: 17\n",
            "THR: 20\n",
            "GLN: 13\n",
            "HIS: 6\n",
            "TYR: 13\n",
            "CYS: 9\n",
            "PHE: 19\n",
            "TRP: 3\n",
            "PRO: 4\n"
          ]
        }
      ]
    },
    {
      "cell_type": "markdown",
      "source": [
        "b. Find whether a residue has the same number of atoms. Find the average number of atoms."
      ],
      "metadata": {
        "id": "6Tsk72brrJpJ"
      }
    },
    {
      "cell_type": "code",
      "source": [
        "def countss(pdb_data):\n",
        "    residue_counts = {}\n",
        "    for resid, atoms in pdb_data.items():\n",
        "        resname = atoms['resname']\n",
        "        atom_count = len(atoms) - 1\n",
        "        residue_counts[(resid, resname)] = atom_count\n",
        "    return residue_counts\n",
        "\n",
        "atom_counts_id = countss(pdb_data)\n",
        "#print(\"Residue ID : Residue Name : Number of Atoms\")\n",
        "#for (resid, resname), count in atom_counts_id.items():\n",
        "#    print(f\"{resid} : {resname} : {count}\")\n",
        "\n",
        "\n",
        "\n",
        "def uniq(countss):\n",
        "    varying_atom_counts = {}\n",
        "    for (resid, resname), count in countss.items():\n",
        "        if resname not in varying_atom_counts:\n",
        "            varying_atom_counts[resname] = set()\n",
        "        varying_atom_counts[resname].add(count)\n",
        "\n",
        "    different_atom_counts = {}\n",
        "    for resname, counts in varying_atom_counts.items():\n",
        "        if len(counts) > 1:\n",
        "            different_atom_counts[resname] = counts\n",
        "\n",
        "    return different_atom_counts\n",
        "\n",
        "\n",
        "residues_with_varying_counts = uniq(atom_counts_id)\n",
        "\n",
        "print(\"Residue Name : Varying Atom Counts\")\n",
        "for resname, counts in residues_with_varying_counts.items():\n",
        "    print(f\"{resname} : {counts}\")\n"
      ],
      "metadata": {
        "colab": {
          "base_uri": "https://localhost:8080/"
        },
        "id": "0USyYLuFG_j9",
        "outputId": "5641d45e-63ca-456a-ce51-99199b112024"
      },
      "execution_count": null,
      "outputs": [
        {
          "output_type": "stream",
          "name": "stdout",
          "text": [
            "Residue Name : Varying Atom Counts\n",
            "LEU : {8, 4}\n",
            "PHE : {10, 11}\n"
          ]
        }
      ]
    },
    {
      "cell_type": "code",
      "source": [
        "print(\"For LEU and PHE, the number of atoms differs\")"
      ],
      "metadata": {
        "colab": {
          "base_uri": "https://localhost:8080/"
        },
        "id": "4F-cnsHlHyJG",
        "outputId": "c1a7003c-0f06-4e3a-eaa6-e51990105118"
      },
      "execution_count": null,
      "outputs": [
        {
          "output_type": "stream",
          "name": "stdout",
          "text": [
            "For LEU and PHE, the number of atoms differs\n"
          ]
        }
      ]
    },
    {
      "cell_type": "code",
      "source": [
        "def calculate(atom_counts_with_resid):\n",
        "    total_atoms = 0\n",
        "    residue_count = 0\n",
        "    for (resid, resname), count in atom_counts_with_resid.items():\n",
        "        total_atoms += count\n",
        "        residue_count += 1\n",
        "    if residue_count == 0:\n",
        "        return 0\n",
        "    return total_atoms / residue_count\n",
        "\n",
        "# Calculate average number of atoms\n",
        "average_atom_counts = calculate(atom_counts_with_resid)\n",
        "\n",
        "print(\"Average number of atoms per residue:\", average_atom_counts)\n"
      ],
      "metadata": {
        "colab": {
          "base_uri": "https://localhost:8080/"
        },
        "id": "6pRKSjUmHvB1",
        "outputId": "8e5f5942-71a5-449c-b8c3-81511798a56a"
      },
      "execution_count": null,
      "outputs": [
        {
          "output_type": "stream",
          "name": "stdout",
          "text": [
            "Average number of atoms per residue: 8.0\n"
          ]
        }
      ]
    },
    {
      "cell_type": "markdown",
      "source": [
        "c. Find the average distance between two consecutive CA residues using the formula:\n",
        "\n",
        "       v1=[x1,x2,x3] and v2=[y1,y2,y3]\n",
        "\n",
        "       vdiff=v2-v1 (vector difference)\n",
        "\n",
        "       d=sqrt(vdiff.vdiff)"
      ],
      "metadata": {
        "id": "7caYo0Fmrld3"
      }
    },
    {
      "cell_type": "code",
      "source": [
        "import math\n",
        "\n",
        "def calculate_distance(v1, v2):\n",
        "    vdiff = [v2[i] - v1[i] for i in range(3)]\n",
        "    return math.sqrt(sum(v**2 for v in vdiff))\n",
        "\n",
        "\n",
        "total_distance = 0\n",
        "ca_count = 0\n",
        "previous_ca_coordinates = None\n",
        "residue_ids = sorted(pdb_data.keys())\n",
        "\n",
        "\n",
        "for resid in residue_ids:\n",
        "    data = pdb_data[resid]\n",
        "    if 'CA' in data:\n",
        "        ca_count += 1\n",
        "        ca_coordinates = data['CA']\n",
        "        if previous_ca_coordinates:\n",
        "            distance = calculate_distance(previous_ca_coordinates, ca_coordinates)\n",
        "            total_distance += distance\n",
        "        previous_ca_coordinates = ca_coordinates\n",
        "\n",
        "\n",
        "if ca_count > 1:\n",
        "    average_distance = total_distance / (ca_count - 1)\n",
        "    print(\"The average distance between consecutive CA residues is: \",average_distance)\n",
        "\n"
      ],
      "metadata": {
        "colab": {
          "base_uri": "https://localhost:8080/"
        },
        "id": "CI3CdwtmqGtl",
        "outputId": "1d7713fd-7b15-423e-c930-52ad35d9ac52"
      },
      "execution_count": null,
      "outputs": [
        {
          "output_type": "stream",
          "name": "stdout",
          "text": [
            "The average distance between consecutive CA residues is:  3.8001963748470757\n"
          ]
        }
      ]
    }
  ]
}